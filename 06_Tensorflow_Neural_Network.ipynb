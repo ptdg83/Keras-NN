{
 "cells": [
  {
   "cell_type": "code",
   "execution_count": 1,
   "metadata": {
    "collapsed": true
   },
   "outputs": [],
   "source": [
    "import tensorflow as tf\n",
    "import numpy as np"
   ]
  },
  {
   "cell_type": "code",
   "execution_count": 2,
   "metadata": {},
   "outputs": [
    {
     "name": "stdout",
     "output_type": "stream",
     "text": [
      "WXb:\n",
      "[[-0.35999998  0.28      ]]\n",
      "-----------------------------------------------------------\n",
      "y1(relu):\n",
      "[[ 0.    0.28]]\n",
      "-----------------------------------------------------------\n",
      "y2(sigmoid):\n",
      "[[ 0.41095957  0.56954622]]\n"
     ]
    }
   ],
   "source": [
    "X = tf.Variable([[0.4,0.2,0.4]])\n",
    "W = tf.Variable([[-0.5,-0.2],[-0.3,0.4],[-0.5,0.2]])\n",
    "b = tf.Variable([[0.1,0.2]])\n",
    "XWb = tf.matmul(X,W)+b\n",
    "y1 = tf.nn.relu(XWb)\n",
    "y2 = tf.nn.sigmoid(XWb)\n",
    "\n",
    "with tf.Session() as sess:\n",
    "    init = tf.global_variables_initializer()\n",
    "    sess.run(init)\n",
    "    print('WXb:')\n",
    "    print(sess.run(XWb)) #分別執行 sess.run\n",
    "    print('-----------------------------------------------------------')\n",
    "    print('y1(relu):')\n",
    "    print(sess.run(y1))\n",
    "    print('-----------------------------------------------------------')\n",
    "    print('y2(sigmoid):')\n",
    "    print(sess.run(y2))"
   ]
  },
  {
   "cell_type": "markdown",
   "metadata": {},
   "source": [
    "## 輸入二維陣列 1x3"
   ]
  },
  {
   "cell_type": "code",
   "execution_count": 3,
   "metadata": {},
   "outputs": [
    {
     "name": "stdout",
     "output_type": "stream",
     "text": [
      "b:\n",
      "[[ 1.03008759 -0.44581318]]\n",
      "-----------------------------------------------------------\n",
      "W:\n",
      "[[-0.50985867  1.57597756]\n",
      " [ 0.74141747 -0.21334767]\n",
      " [ 2.0586369   0.6012252 ]]\n",
      "-----------------------------------------------------------\n",
      "X:\n",
      "[[ 0.40000001  0.2         0.40000001]]\n",
      "-----------------------------------------------------------\n",
      "y:\n",
      "[[ 1.79788244  0.38239843]]\n"
     ]
    }
   ],
   "source": [
    "W = tf.Variable(tf.random_normal([3,2])) #常態分佈亂數\n",
    "b = tf.Variable(tf.random_normal([1,2])) #常態分佈亂數\n",
    "X = tf.placeholder(\"float\", [None,3]) # 宣告輸入變數\n",
    "\n",
    "y = tf.nn.relu(tf.matmul(X,W)+b)\n",
    "\n",
    "with tf.Session() as sess:\n",
    "    init = tf.global_variables_initializer()\n",
    "    sess.run(init)\n",
    "    X_array = np.array([[0.4,0.2,0.4]]) #輸入二維陣列 1x3\n",
    "    (_b,_W,_X,_y) = sess.run((b,W,X,y),feed_dict={X:X_array}) #執行一次 sess.run\n",
    "    print('b:'); print(_b)\n",
    "    print('-----------------------------------------------------------')\n",
    "    print('W:'); print(_W)\n",
    "    print('-----------------------------------------------------------')\n",
    "    print('X:'); print(_X)\n",
    "    print('-----------------------------------------------------------')\n",
    "    print('y:'); print(_y)"
   ]
  },
  {
   "cell_type": "markdown",
   "metadata": {},
   "source": [
    "## 輸入二維陣列 3x3"
   ]
  },
  {
   "cell_type": "code",
   "execution_count": 4,
   "metadata": {},
   "outputs": [
    {
     "name": "stdout",
     "output_type": "stream",
     "text": [
      "b:\n",
      "[[ 1.73277366 -0.120329  ]]\n",
      "-----------------------------------------------------------\n",
      "W:\n",
      "[[-2.43219328 -0.03819053]\n",
      " [ 0.26766616  2.1815033 ]\n",
      " [-2.13528824  0.05450409]]\n",
      "-----------------------------------------------------------\n",
      "X:\n",
      "[[ 0.40000001  0.2         0.40000001]\n",
      " [ 0.30000001  0.40000001  0.5       ]\n",
      " [ 0.30000001 -0.40000001  0.5       ]]\n",
      "-----------------------------------------------------------\n",
      "y:\n",
      "[[ 0.48982993  0.57993269]\n",
      " [ 0.51063293  0.68310261]\n",
      " [ 0.45720625  0.27346054]]\n"
     ]
    }
   ],
   "source": [
    "W = tf.Variable(tf.random_normal([3,2])) #常態分佈亂數\n",
    "b = tf.Variable(tf.random_normal([1,2])) #常態分佈亂數\n",
    "X = tf.placeholder(\"float\", [None,3]) # 宣告輸入變數\n",
    "\n",
    "y = tf.nn.sigmoid(tf.matmul(X,W)+b)\n",
    "\n",
    "with tf.Session() as sess:\n",
    "    init = tf.global_variables_initializer()\n",
    "    sess.run(init)\n",
    "    X_array = np.array([[0.4,0.2,0.4],\n",
    "                       [0.3,0.4,0.5],\n",
    "                       [0.3,-0.4,0.5]]) #輸入二維陣列 3x3\n",
    "    (_b,_W,_X,_y) = sess.run((b,W,X,y),feed_dict={X:X_array}) #執行一次 sess.run\n",
    "    print('b:'); print(_b)\n",
    "    print('-----------------------------------------------------------')\n",
    "    print('W:'); print(_W)\n",
    "    print('-----------------------------------------------------------')\n",
    "    print('X:'); print(_X)\n",
    "    print('-----------------------------------------------------------')\n",
    "    print('y:'); print(_y)"
   ]
  },
  {
   "cell_type": "markdown",
   "metadata": {},
   "source": [
    "## 建立 Layer 函數"
   ]
  },
  {
   "cell_type": "code",
   "execution_count": 5,
   "metadata": {
    "collapsed": true
   },
   "outputs": [],
   "source": [
    "def layer(output_dim, input_dim, inputs, activation=None):\n",
    "    W = tf.Variable(tf.random_normal([input_dim, output_dim]))\n",
    "    b = tf.Variable(tf.random_normal([1, output_dim]))\n",
    "    XWb = tf.matmul(inputs, W) + b\n",
    "    if activation is None:\n",
    "        outputs = XWb\n",
    "    else:\n",
    "        outputs = activation(XWb)\n",
    "    return outputs"
   ]
  },
  {
   "cell_type": "code",
   "execution_count": 6,
   "metadata": {},
   "outputs": [
    {
     "name": "stdout",
     "output_type": "stream",
     "text": [
      "intput Layer X:\n",
      "[[ 0.40000001  0.2         0.40000001  0.5       ]]\n",
      "-----------------------------------------------------------\n",
      "hidden Layer h:\n",
      "[[ 0.          0.74909562  0.        ]]\n",
      "-----------------------------------------------------------\n",
      "output Layer y:\n",
      "[[-2.44668818  1.07035446]]\n"
     ]
    }
   ],
   "source": [
    "X = tf.placeholder(\"float\", [None, 4])\n",
    "h = layer(output_dim=3, input_dim=4, inputs=X, activation=tf.nn.relu)\n",
    "y = layer(output_dim=2, input_dim=3, inputs=h)\n",
    "\n",
    "with tf.Session() as sess:\n",
    "    init = tf.global_variables_initializer()\n",
    "    sess.run(init)\n",
    "    X_array = np.array([[0.4,0.2,0.4,0.5]]) #輸入二維陣列 1x4\n",
    "    (layer_X, layer_h, layer_y) = sess.run((X,h,y),feed_dict={X:X_array})\n",
    "    print('intput Layer X:'); print(layer_X)\n",
    "    print('-----------------------------------------------------------')\n",
    "    print('hidden Layer h:'); print(layer_h)\n",
    "    print('-----------------------------------------------------------')\n",
    "    print('output Layer y:'); print(layer_y)"
   ]
  },
  {
   "cell_type": "code",
   "execution_count": 8,
   "metadata": {},
   "outputs": [
    {
     "name": "stdout",
     "output_type": "stream",
     "text": [
      "intput Layer X:\n",
      "[[ 0.40000001  0.2         0.40000001  0.2       ]\n",
      " [ 0.30000001  0.40000001  0.5         0.2       ]\n",
      " [ 0.30000001 -0.40000001  0.5         0.2       ]]\n",
      "-----------------------------------------------------------\n",
      "hidden Layer h:\n",
      "[[ 0.          1.87201953  0.39482343]\n",
      " [ 0.          1.92654586  0.11804628]\n",
      " [ 0.          0.95781684  0.71738899]]\n",
      "-----------------------------------------------------------\n",
      "output Layer y:\n",
      "[[ 1.44105744 -0.24858809]\n",
      " [ 1.40588045 -0.26786292]\n",
      " [ 0.44248861 -0.70530677]]\n"
     ]
    }
   ],
   "source": [
    "X = tf.placeholder(\"float\", [None, 4])\n",
    "h = layer(output_dim=3, input_dim=4, inputs=X, activation=tf.nn.relu)\n",
    "y = layer(output_dim=2, input_dim=3, inputs=h)\n",
    "\n",
    "with tf.Session() as sess:\n",
    "    init = tf.global_variables_initializer()\n",
    "    sess.run(init)\n",
    "    X_array = np.array([[0.4,0.2,0.4,0.2],\n",
    "                       [0.3,0.4,0.5,0.2],\n",
    "                       [0.3,-0.4,0.5,0.2]]) #輸入二維陣列 3x4\n",
    "    (layer_X, layer_h, layer_y) = sess.run((X,h,y),feed_dict={X:X_array})\n",
    "    print('intput Layer X:'); print(layer_X)\n",
    "    print('-----------------------------------------------------------')\n",
    "    print('hidden Layer h:'); print(layer_h)\n",
    "    print('-----------------------------------------------------------')\n",
    "    print('output Layer y:'); print(layer_y)"
   ]
  },
  {
   "cell_type": "code",
   "execution_count": null,
   "metadata": {
    "collapsed": true
   },
   "outputs": [],
   "source": []
  }
 ],
 "metadata": {
  "kernelspec": {
   "display_name": "Python 3",
   "language": "python",
   "name": "python3"
  },
  "language_info": {
   "codemirror_mode": {
    "name": "ipython",
    "version": 3
   },
   "file_extension": ".py",
   "mimetype": "text/x-python",
   "name": "python",
   "nbconvert_exporter": "python",
   "pygments_lexer": "ipython3",
   "version": "3.6.3"
  }
 },
 "nbformat": 4,
 "nbformat_minor": 2
}

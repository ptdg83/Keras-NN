{
 "cells": [
  {
   "cell_type": "code",
   "execution_count": 1,
   "metadata": {
    "collapsed": true
   },
   "outputs": [],
   "source": [
    "import tensorflow as tf"
   ]
  },
  {
   "cell_type": "code",
   "execution_count": 2,
   "metadata": {},
   "outputs": [
    {
     "name": "stdout",
     "output_type": "stream",
     "text": [
      "ts_c= 2\n",
      "ts_x= 7\n",
      "ts_c= 2\n",
      "ts_x= 7\n"
     ]
    }
   ],
   "source": [
    "#建立計算圖\n",
    "ts_c = tf.constant(2, name='ts_c')\n",
    "ts_x = tf.Variable(ts_c+5, name='ts_x')\n",
    "# Session 代表用戶端和執行裝置之間建立連結\n",
    "sess = tf.Session() # 開啟 session, 並開始執行計算圖\n",
    "init = tf.global_variables_initializer()\n",
    "sess.run(init)\n",
    "print('ts_c=', sess.run(ts_c))\n",
    "print('ts_x=', sess.run(ts_x))\n",
    "print('ts_c=', ts_c.eval(session=sess)) # runs one step\n",
    "print('ts_x=', ts_x.eval(session=sess)) # runs one step\n",
    "sess.close() # 關閉 session, 並結束執行計算圖"
   ]
  },
  {
   "cell_type": "code",
   "execution_count": 3,
   "metadata": {},
   "outputs": [
    {
     "name": "stdout",
     "output_type": "stream",
     "text": [
      "a =  2\n",
      "x =  7\n"
     ]
    }
   ],
   "source": [
    "a = tf.constant(2, name='a')\n",
    "x = tf.Variable(ts_c+5, name='x')\n",
    "\n",
    "with tf.Session() as sess:  # with 語法開啟 session, 避免前述方法忘記關閉 session\n",
    "    init = tf.global_variables_initializer()\n",
    "    sess.run(init)\n",
    "    print('a = ', sess.run(a))\n",
    "    print('x = ',sess.run(x))"
   ]
  },
  {
   "cell_type": "code",
   "execution_count": 20,
   "metadata": {},
   "outputs": [
    {
     "name": "stdout",
     "output_type": "stream",
     "text": [
      "1554.0\n",
      "79.0\n",
      "[1554.0, 79.0]\n"
     ]
    }
   ],
   "source": [
    "#TensorFlow has two ways to evaluate part of graph: Session.run on a list of variables and Tensor.eval.\n",
    "#The most important difference is that you can use sess.run() to fetch the values of many tensors in the same step:\n",
    "\n",
    "t = tf.constant(42.0)\n",
    "u = tf.constant(37.0)\n",
    "tu = tf.multiply(t, u)\n",
    "ut = tf.add(u, t)\n",
    "\n",
    "with tf.Session() as sess: # with 語法開啟 session, 避免前述方法忘記關閉 session\n",
    "    print(tu.eval())  # runs one step\n",
    "    print(ut.eval())  # runs one step\n",
    "    print(sess.run([tu, ut])) # evaluates both tensors in a single step\n",
    "    "
   ]
  },
  {
   "cell_type": "markdown",
   "metadata": {},
   "source": [
    "## placeholder: 先宣告變數，等執行設計圖時，才設定數值"
   ]
  },
  {
   "cell_type": "code",
   "execution_count": 5,
   "metadata": {},
   "outputs": [
    {
     "name": "stdout",
     "output_type": "stream",
     "text": [
      "area =  48\n"
     ]
    }
   ],
   "source": [
    "width = tf.placeholder(\"int32\", name='width')\n",
    "height = tf.placeholder(\"int32\", name='height')\n",
    "area = tf.multiply(width, height, name='area') #相乘\n",
    "\n",
    "with tf.Session() as sess:\n",
    "    init = tf.global_variables_initializer()\n",
    "    sess.run(init)\n",
    "    print('area = ', sess.run(area, feed_dict={width: 6, height: 8}))"
   ]
  },
  {
   "cell_type": "markdown",
   "metadata": {},
   "source": [
    "## 1-D Tensor: Vector"
   ]
  },
  {
   "cell_type": "code",
   "execution_count": 6,
   "metadata": {},
   "outputs": [
    {
     "name": "stdout",
     "output_type": "stream",
     "text": [
      "[ 0.40000001  0.2         0.40000001]\n"
     ]
    }
   ],
   "source": [
    "ts_X = tf.Variable([0.4,0.2,0.4])\n",
    "with tf.Session() as sess:\n",
    "    init = tf.global_variables_initializer()\n",
    "    sess.run(init)\n",
    "    X=sess.run(ts_X)\n",
    "    print(X)"
   ]
  },
  {
   "cell_type": "code",
   "execution_count": 7,
   "metadata": {},
   "outputs": [
    {
     "name": "stdout",
     "output_type": "stream",
     "text": [
      "(3,)\n"
     ]
    }
   ],
   "source": [
    "print(X.shape) # 3 個數值"
   ]
  },
  {
   "cell_type": "markdown",
   "metadata": {},
   "source": [
    "## 2-D Tensor: Mactix "
   ]
  },
  {
   "cell_type": "code",
   "execution_count": 8,
   "metadata": {},
   "outputs": [
    {
     "name": "stdout",
     "output_type": "stream",
     "text": [
      "[[ 0.40000001  0.2         0.40000001]]\n"
     ]
    }
   ],
   "source": [
    "ts_X = tf.Variable([[0.4,0.2,0.4]])\n",
    "with tf.Session() as sess:\n",
    "    init = tf.global_variables_initializer()\n",
    "    sess.run(init)\n",
    "    X=sess.run(ts_X)\n",
    "    print(X)"
   ]
  },
  {
   "cell_type": "code",
   "execution_count": 9,
   "metadata": {},
   "outputs": [
    {
     "name": "stdout",
     "output_type": "stream",
     "text": [
      "(1, 3)\n"
     ]
    }
   ],
   "source": [
    "print(X.shape) # (1 筆資料， 每一筆有 3 個數值)"
   ]
  },
  {
   "cell_type": "code",
   "execution_count": 10,
   "metadata": {},
   "outputs": [
    {
     "name": "stdout",
     "output_type": "stream",
     "text": [
      "[[-0.5        -0.2       ]\n",
      " [-0.30000001  0.40000001]\n",
      " [-0.5         0.2       ]]\n"
     ]
    }
   ],
   "source": [
    "W = tf.Variable([[-0.5,-0.2],\n",
    "                [-0.3, 0.4],\n",
    "                [-0.5, 0.2]])\n",
    "with tf.Session() as sess:\n",
    "    init = tf.global_variables_initializer()\n",
    "    sess.run(init)\n",
    "    W_array=sess.run(W)\n",
    "    print(W_array)"
   ]
  },
  {
   "cell_type": "code",
   "execution_count": 11,
   "metadata": {},
   "outputs": [
    {
     "name": "stdout",
     "output_type": "stream",
     "text": [
      "(3, 2)\n"
     ]
    }
   ],
   "source": [
    "print(W_array.shape) # (3 筆資料， 每一筆有 2 個數值)"
   ]
  },
  {
   "cell_type": "markdown",
   "metadata": {},
   "source": [
    "## 矩陣運算: 乘法"
   ]
  },
  {
   "cell_type": "code",
   "execution_count": 12,
   "metadata": {},
   "outputs": [
    {
     "name": "stdout",
     "output_type": "stream",
     "text": [
      "[[-1.29999995  0.40000001]]\n"
     ]
    }
   ],
   "source": [
    "# 矩陣運算: 乘法\n",
    "X = tf.Variable([[1.,1.,1.]])\n",
    "W = tf.Variable([[-0.5,-0.2],\n",
    "                [-0.3, 0.4],\n",
    "                [-0.5, 0.2]])\n",
    "XW = tf.matmul(X,W)\n",
    "\n",
    "with tf.Session() as sess:\n",
    "    init = tf.global_variables_initializer()\n",
    "    sess.run(init)\n",
    "    XW_array=sess.run(XW)\n",
    "    print(XW_array)"
   ]
  },
  {
   "cell_type": "markdown",
   "metadata": {},
   "source": [
    "## 矩陣運算: 加法"
   ]
  },
  {
   "cell_type": "code",
   "execution_count": 13,
   "metadata": {},
   "outputs": [
    {
     "name": "stdout",
     "output_type": "stream",
     "text": [
      "Sim:\n",
      "[[-1.19999993  0.60000002]]\n"
     ]
    }
   ],
   "source": [
    "b = tf.Variable([[0.1,0.2]])\n",
    "XW = tf.Variable([[-1.3,0.4]])\n",
    "Sum = XW+b\n",
    "\n",
    "with tf.Session() as sess:\n",
    "    init = tf.global_variables_initializer()\n",
    "    sess.run(init)\n",
    "    print('Sim:')\n",
    "    print(sess.run(Sum))"
   ]
  },
  {
   "cell_type": "markdown",
   "metadata": {},
   "source": [
    "## 矩陣運算: 乘法和加法"
   ]
  },
  {
   "cell_type": "code",
   "execution_count": 14,
   "metadata": {},
   "outputs": [
    {
     "name": "stdout",
     "output_type": "stream",
     "text": [
      "XWb:\n",
      "[[-1.19999993  0.60000002]]\n"
     ]
    }
   ],
   "source": [
    "X = tf.Variable([[1.,1.,1.]])\n",
    "W = tf.Variable([[-0.5,-0.2],\n",
    "                [-0.3, 0.4],\n",
    "                [-0.5, 0.2]])\n",
    "b = tf.Variable([[0.1,0.2]])\n",
    "\n",
    "XWb = tf.matmul(X,W)+b\n",
    "\n",
    "with tf.Session() as sess:\n",
    "    init = tf.global_variables_initializer()\n",
    "    sess.run(init)\n",
    "    print('XWb:')\n",
    "    print(sess.run(XWb))"
   ]
  },
  {
   "cell_type": "code",
   "execution_count": null,
   "metadata": {
    "collapsed": true
   },
   "outputs": [],
   "source": []
  }
 ],
 "metadata": {
  "kernelspec": {
   "display_name": "Python 3",
   "language": "python",
   "name": "python3"
  },
  "language_info": {
   "codemirror_mode": {
    "name": "ipython",
    "version": 3
   },
   "file_extension": ".py",
   "mimetype": "text/x-python",
   "name": "python",
   "nbconvert_exporter": "python",
   "pygments_lexer": "ipython3",
   "version": "3.6.3"
  }
 },
 "nbformat": 4,
 "nbformat_minor": 2
}

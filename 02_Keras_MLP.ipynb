{
 "cells": [
  {
   "cell_type": "markdown",
   "metadata": {},
   "source": [
    "# 多層感知器(Multilayer Perceptron)\n",
    "定義了一個多類別分類(multi-class classification)的多層感知器(MLP)模型。\n",
    "\n",
    "該模型有784個輸入，2個隱藏層(分別有512個隱藏神經元)，輸出層有10個輸出。\n",
    "\n",
    "在每個隱藏層中使用relu激活函數，並且在輸出層中使用softmax激活函數進行多類別分類。"
   ]
  },
  {
   "cell_type": "code",
   "execution_count": 1,
   "metadata": {},
   "outputs": [
    {
     "name": "stdout",
     "output_type": "stream",
     "text": [
      "Platform: Windows-10-10.0.16299-SP0\n",
      "Python version: 3.6.3\n",
      "Tensorflow version: 1.4.0\n",
      "Keras version: 2.1.2\n"
     ]
    },
    {
     "name": "stderr",
     "output_type": "stream",
     "text": [
      "Using TensorFlow backend.\n"
     ]
    }
   ],
   "source": [
    "import platform\n",
    "import tensorflow\n",
    "import keras\n",
    "print(\"Platform: {}\".format(platform.platform()))\n",
    "print(\"Python version: {}\".format(platform.python_version()))\n",
    "print(\"Tensorflow version: {}\".format(tensorflow.__version__))\n",
    "print(\"Keras version: {}\".format(keras.__version__))\n"
   ]
  },
  {
   "cell_type": "markdown",
   "metadata": {},
   "source": [
    "# 1. Keras Functional API"
   ]
  },
  {
   "cell_type": "code",
   "execution_count": 2,
   "metadata": {},
   "outputs": [
    {
     "name": "stdout",
     "output_type": "stream",
     "text": [
      "_________________________________________________________________\n",
      "Layer (type)                 Output Shape              Param #   \n",
      "=================================================================\n",
      "input (InputLayer)           (None, 784)               0         \n",
      "_________________________________________________________________\n",
      "hidden1 (Dense)              (None, 512)               401920    \n",
      "_________________________________________________________________\n",
      "hidden2 (Dense)              (None, 512)               262656    \n",
      "_________________________________________________________________\n",
      "output (Dense)               (None, 10)                5130      \n",
      "=================================================================\n",
      "Total params: 669,706\n",
      "Trainable params: 669,706\n",
      "Non-trainable params: 0\n",
      "_________________________________________________________________\n"
     ]
    }
   ],
   "source": [
    "from keras.models import Model\n",
    "from keras.layers import Input, Dense\n",
    "\n",
    "#構建模型\n",
    "mnist_input = Input(shape=(784,), name='input') # 定義輸入數據張量的維度形狀(tensor shape)\n",
    "hidden1 = Dense(512, activation='relu', name='hidden1')(mnist_input) #連接不同的網路層\n",
    "hidden2 = Dense(512, activation='relu', name='hidden2')(hidden1)\n",
    "output = Dense(10, activation='softmax', name='output')(hidden2)\n",
    "\n",
    "model = Model(inputs=mnist_input, outputs=output) # 創建模型\n",
    "\n",
    "# 網路結構\n",
    "model.summary()"
   ]
  },
  {
   "cell_type": "markdown",
   "metadata": {
    "collapsed": true
   },
   "source": [
    "# 2. Keras Sequential Models"
   ]
  },
  {
   "cell_type": "code",
   "execution_count": 3,
   "metadata": {},
   "outputs": [
    {
     "name": "stdout",
     "output_type": "stream",
     "text": [
      "_________________________________________________________________\n",
      "Layer (type)                 Output Shape              Param #   \n",
      "=================================================================\n",
      "hidden_1 (Dense)             (None, 512)               401920    \n",
      "_________________________________________________________________\n",
      "hidden_2 (Dense)             (None, 512)               262656    \n",
      "_________________________________________________________________\n",
      "output (Dense)               (None, 10)                5130      \n",
      "=================================================================\n",
      "Total params: 669,706\n",
      "Trainable params: 669,706\n",
      "Non-trainable params: 0\n",
      "_________________________________________________________________\n"
     ]
    }
   ],
   "source": [
    "from keras.models import Sequential\n",
    "from keras.layers import Dense\n",
    "\n",
    "# 構建模型\n",
    "model = Sequential() #Linear\n",
    "model.add(Dense(512, activation='relu', input_shape=(784,), name='hidden_1'))\n",
    "model.add(Dense(512, activation='relu', name='hidden_2'))\n",
    "model.add(Dense(10, activation='softmax', name='output'))\n",
    "\n",
    "# 網路結構\n",
    "model.summary()"
   ]
  },
  {
   "cell_type": "markdown",
   "metadata": {
    "collapsed": true
   },
   "source": [
    "# model summary 結構表與參數統計\n",
    "\n",
    "hidden_1: 784 x 512 + 512 = 401,920\n",
    "\n",
    "hidden_2: 512 x 512 + 512 = 262,656\n",
    "\n",
    "output: 512 x 10 + 10 = 5,130"
   ]
  }
 ],
 "metadata": {
  "kernelspec": {
   "display_name": "Python 3",
   "language": "python",
   "name": "python3"
  },
  "language_info": {
   "codemirror_mode": {
    "name": "ipython",
    "version": 3
   },
   "file_extension": ".py",
   "mimetype": "text/x-python",
   "name": "python",
   "nbconvert_exporter": "python",
   "pygments_lexer": "ipython3",
   "version": "3.6.3"
  }
 },
 "nbformat": 4,
 "nbformat_minor": 2
}
